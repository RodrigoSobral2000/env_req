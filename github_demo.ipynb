{
 "cells": [
  {
   "cell_type": "code",
   "execution_count": null,
   "id": "a21a4078-dfcb-432b-b5f2-ed14c28d16a8",
   "metadata": {},
   "outputs": [],
   "source": [
    "import pyjapc\n",
    "japc = pyjapc.PyJapc(selector='', incaAcceleratorName=None)\n",
    "japc.getParam('SPS.TIMING.INFO/TimingUsers#timingUsers')\n",
    "array(['ZERO', 'SFTPRO1', 'SFTPRO2', 'MD5', 'SFTION1', 'SFTION2',\n",
    "       'SFTION3', 'SFTION4', 'HIRADMT1', 'HIRADMT2', 'LHCPILOT',\n",
    "       'LHCINDIV', 'LHC50NS', 'LHC25NS', 'LHC1', 'LHC2', 'LHC3', 'LHC4',\n",
    "       'AWAKE1', 'MD4', 'LHCION1', 'LHCION2', 'LHCION3', 'LHCION4',\n",
    "       'LHCMD1', 'LHCMD2', 'LHCMD3', 'LHCMD4', 'MD1', 'MD2', 'MD3',\n",
    "       'SFTPRO3'], dtype='<U8')"
   ]
  }
 ],
 "metadata": {
  "kernelspec": {
   "display_name": "Python (accpy_env)",
   "language": "python",
   "name": "accpy_env"
  },
  "language_info": {
   "codemirror_mode": {
    "name": "ipython",
    "version": 3
   },
   "file_extension": ".py",
   "mimetype": "text/x-python",
   "name": "python",
   "nbconvert_exporter": "python",
   "pygments_lexer": "ipython3",
   "version": "3.9.18"
  }
 },
 "nbformat": 4,
 "nbformat_minor": 5
}
