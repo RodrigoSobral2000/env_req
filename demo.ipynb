import pyjapc
japc = pyjapc.PyJapc(selector='', incaAcceleratorName=None)
japc.getParam('SPS.TIMING.INFO/TimingUsers#timingUsers')
array(['ZERO', 'SFTPRO1', 'SFTPRO2', 'MD5', 'SFTION1', 'SFTION2',
       'SFTION3', 'SFTION4', 'HIRADMT1', 'HIRADMT2', 'LHCPILOT',
       'LHCINDIV', 'LHC50NS', 'LHC25NS', 'LHC1', 'LHC2', 'LHC3', 'LHC4',
       'AWAKE1', 'MD4', 'LHCION1', 'LHCION2', 'LHCION3', 'LHCION4',
       'LHCMD1', 'LHCMD2', 'LHCMD3', 'LHCMD4', 'MD1', 'MD2', 'MD3',
       'SFTPRO3'], dtype='<U8')
